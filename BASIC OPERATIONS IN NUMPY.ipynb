{
  "nbformat": 4,
  "nbformat_minor": 0,
  "metadata": {
    "colab": {
      "provenance": [],
      "authorship_tag": "ABX9TyPZsz/wgWvh+dmJOFwnPhEV",
      "include_colab_link": true
    },
    "kernelspec": {
      "name": "python3",
      "display_name": "Python 3"
    },
    "language_info": {
      "name": "python"
    }
  },
  "cells": [
    {
      "cell_type": "markdown",
      "metadata": {
        "id": "view-in-github",
        "colab_type": "text"
      },
      "source": [
        "<a href=\"https://colab.research.google.com/github/Kotni-Ranjith/DATA-VISUALIZATION/blob/main/BASIC%20OPERATIONS%20IN%20NUMPY.ipynb\" target=\"_parent\"><img src=\"https://colab.research.google.com/assets/colab-badge.svg\" alt=\"Open In Colab\"/></a>"
      ]
    },
    {
      "cell_type": "code",
      "execution_count": 1,
      "metadata": {
        "colab": {
          "base_uri": "https://localhost:8080/"
        },
        "id": "Adp5iOuY2gcE",
        "outputId": "c48089ca-09f2-48df-e1e8-77d2ca2815bf"
      },
      "outputs": [
        {
          "output_type": "stream",
          "name": "stdout",
          "text": [
            "Array 1:\n",
            "Data:\n",
            "[1 2 3 4 5]\n",
            "Shape: (5,)\n",
            "Size: 5\n",
            "Dimensions: 1\n",
            "Length (for 1D arrays only): 5\n",
            "\n",
            "Array 2:\n",
            "Data:\n",
            "[[1 2 3]\n",
            " [4 5 6]]\n",
            "Shape: (2, 3)\n",
            "Size: 6\n",
            "Dimensions: 2\n",
            "Length (for 1D arrays only): N/A\n",
            "\n",
            "Array 3:\n",
            "Data:\n",
            "[[[1 2]\n",
            "  [3 4]]\n",
            "\n",
            " [[5 6]\n",
            "  [7 8]]]\n",
            "Shape: (2, 2, 2)\n",
            "Size: 8\n",
            "Dimensions: 3\n",
            "Length (for 1D arrays only): N/A\n",
            "\n"
          ]
        }
      ],
      "source": [
        "import numpy as np\n",
        "\n",
        "\n",
        "array_1d = np.array([1, 2, 3, 4, 5])\n",
        "\n",
        "\n",
        "array_2d = np.array([[1, 2, 3],\n",
        "                     [4, 5, 6]])\n",
        "\n",
        "array_3d = np.array([[[1, 2],\n",
        "                      [3, 4]],\n",
        "                     [[5, 6],\n",
        "                      [7, 8]]])\n",
        "arrays = [array_1d, array_2d, array_3d]\n",
        "for i, array in enumerate(arrays, start=1):\n",
        "    print(f\"Array {i}:\")\n",
        "    print(\"Data:\")\n",
        "    print(array)\n",
        "    print(\"Shape:\", array.shape)\n",
        "    print(\"Size:\", array.size)\n",
        "    print(\"Dimensions:\", array.ndim)\n",
        "    print(\"Length (for 1D arrays only):\", len(array) if array.ndim == 1 else \"N/A\")\n",
        "    print()\n"
      ]
    },
    {
      "cell_type": "code",
      "source": [
        "import numpy as np\n",
        "\n",
        "arr1 = np.arange(5)\n",
        "print(\"Example 1:\", arr1)\n",
        "\n",
        "\n",
        "arr2 = np.arange(2, 10)\n",
        "print(\"Example 2:\", arr2)\n",
        "\n",
        "arr3 = np.arange(1, 10, 2)\n",
        "print(\"Example 3:\", arr3)\n",
        "\n",
        "arr4 = np.arange(0, 1, 0.2)\n",
        "print(\"Example 4:\", arr4)"
      ],
      "metadata": {
        "colab": {
          "base_uri": "https://localhost:8080/"
        },
        "id": "cL0LSkhv25dr",
        "outputId": "b925a241-8f49-4ae1-cfef-865b06960eb3"
      },
      "execution_count": 2,
      "outputs": [
        {
          "output_type": "stream",
          "name": "stdout",
          "text": [
            "Example 1: [0 1 2 3 4]\n",
            "Example 2: [2 3 4 5 6 7 8 9]\n",
            "Example 3: [1 3 5 7 9]\n",
            "Example 4: [0.  0.2 0.4 0.6 0.8]\n"
          ]
        }
      ]
    },
    {
      "cell_type": "code",
      "source": [
        "\n",
        "random_number = random.randint(1, 10)\n",
        "print(\"Random number between 1 and 10:\", random_number)"
      ],
      "metadata": {
        "colab": {
          "base_uri": "https://localhost:8080/"
        },
        "id": "98-aI8gW4MRS",
        "outputId": "e7c32ca9-00ea-41f0-9e1e-81ef6c32d767"
      },
      "execution_count": 5,
      "outputs": [
        {
          "output_type": "stream",
          "name": "stdout",
          "text": [
            "Random number between 1 and 10: 1\n"
          ]
        }
      ]
    },
    {
      "cell_type": "code",
      "source": [
        "values = np.linspace(0, 3, num=10)\n",
        "print(\"Values:\", values)"
      ],
      "metadata": {
        "colab": {
          "base_uri": "https://localhost:8080/"
        },
        "id": "OMqOZkuZ4W5J",
        "outputId": "4e2b602c-8300-4281-ae41-19e7d0931f44"
      },
      "execution_count": 6,
      "outputs": [
        {
          "output_type": "stream",
          "name": "stdout",
          "text": [
            "Values: [0.         0.33333333 0.66666667 1.         1.33333333 1.66666667\n",
            " 2.         2.33333333 2.66666667 3.        ]\n"
          ]
        }
      ]
    },
    {
      "cell_type": "code",
      "source": [
        "array_ones = np.ones((3, 3))\n",
        "print(\"Array filled with ones:\")\n",
        "print(array_ones)"
      ],
      "metadata": {
        "colab": {
          "base_uri": "https://localhost:8080/"
        },
        "id": "5mhhNHxl46rj",
        "outputId": "46cb8b91-3f2e-4a33-f43f-d7fab4c04841"
      },
      "execution_count": 7,
      "outputs": [
        {
          "output_type": "stream",
          "name": "stdout",
          "text": [
            "Array filled with ones:\n",
            "[[1. 1. 1.]\n",
            " [1. 1. 1.]\n",
            " [1. 1. 1.]]\n"
          ]
        }
      ]
    },
    {
      "cell_type": "code",
      "source": [
        "array_zeros = np.zeros((3, 3))\n",
        "print(\"Array filled with zeros:\")\n",
        "print(array_zeros)"
      ],
      "metadata": {
        "colab": {
          "base_uri": "https://localhost:8080/"
        },
        "id": "sjWNQi8r47rw",
        "outputId": "925a236f-836f-4321-cfa9-95e55d2a1176"
      },
      "execution_count": 8,
      "outputs": [
        {
          "output_type": "stream",
          "name": "stdout",
          "text": [
            "Array filled with zeros:\n",
            "[[0. 0. 0.]\n",
            " [0. 0. 0.]\n",
            " [0. 0. 0.]]\n"
          ]
        }
      ]
    },
    {
      "cell_type": "code",
      "source": [
        "arr_2d = np.array([[1, 2, 3],\n",
        "                   [4, 4, 6],\n",
        "                   [7, 8, 3]])\n",
        "diag_elements = np.diag(arr_2d)\n",
        "print(\"Diagonal elements:\", diag_elements)"
      ],
      "metadata": {
        "colab": {
          "base_uri": "https://localhost:8080/"
        },
        "id": "ETSXC-6i5HhI",
        "outputId": "c7c1420e-44a1-4316-d9d8-e48aa2bdb4f7"
      },
      "execution_count": 10,
      "outputs": [
        {
          "output_type": "stream",
          "name": "stdout",
          "text": [
            "Diagonal elements: [1 4 3]\n"
          ]
        }
      ]
    },
    {
      "cell_type": "code",
      "source": [
        "arr = np.array([[1, 2, 3],\n",
        "                [4, 5, 6]])\n",
        "total_sum = np.sum(arr)\n",
        "print(\"Total sum:\", total_sum)\n"
      ],
      "metadata": {
        "colab": {
          "base_uri": "https://localhost:8080/"
        },
        "id": "rsYsMo2s5Wex",
        "outputId": "de8330eb-0685-4bcb-a44a-69ee1789647c"
      },
      "execution_count": 12,
      "outputs": [
        {
          "output_type": "stream",
          "name": "stdout",
          "text": [
            "Total sum: 21\n"
          ]
        }
      ]
    },
    {
      "cell_type": "code",
      "source": [
        "arr = np.array([[1, 2, 3],\n",
        "                [4, 5, 6]])\n",
        "\n",
        "\n",
        "total_min = np.min(arr)\n",
        "print(\"Total minimum value:\", total_min)\n",
        "\n"
      ],
      "metadata": {
        "colab": {
          "base_uri": "https://localhost:8080/"
        },
        "id": "d5mJKkg05ytw",
        "outputId": "4208870f-b470-4153-d091-3c269c6c32b4"
      },
      "execution_count": 13,
      "outputs": [
        {
          "output_type": "stream",
          "name": "stdout",
          "text": [
            "Total minimum value: 1\n"
          ]
        }
      ]
    },
    {
      "cell_type": "code",
      "source": [
        "rr = np.array([[1, 2, 3],\n",
        "                [4, 5, 6]])\n",
        "total_max = np.max(arr)\n",
        "print(\"Total maximum value:\", total_max)"
      ],
      "metadata": {
        "colab": {
          "base_uri": "https://localhost:8080/"
        },
        "id": "6CmjYsYH6CKg",
        "outputId": "52d26615-eff5-4a95-b172-38cf6ea6664e"
      },
      "execution_count": 14,
      "outputs": [
        {
          "output_type": "stream",
          "name": "stdout",
          "text": [
            "Total maximum value: 6\n"
          ]
        }
      ]
    },
    {
      "cell_type": "code",
      "source": [
        "arr = np.array([[1, 2, 3],\n",
        "                [4, 5, 6]])\n",
        "total_mean = np.mean(arr)\n",
        "print(\"Total mean:\", total_mean)"
      ],
      "metadata": {
        "colab": {
          "base_uri": "https://localhost:8080/"
        },
        "id": "D0nO26Rg6CSY",
        "outputId": "877a15c4-7ab7-486c-b91b-91c32aa3ebb6"
      },
      "execution_count": 15,
      "outputs": [
        {
          "output_type": "stream",
          "name": "stdout",
          "text": [
            "Total mean: 3.5\n"
          ]
        }
      ]
    },
    {
      "cell_type": "code",
      "source": [
        "\n",
        "np.random.seed(42)  # For reproducibility\n",
        "student_marks = np.random.randint(0, 101, size=50)  # Assuming 50 students\n",
        "\n",
        "\n",
        "passing_marks = student_marks >= 30\n",
        "num_students_passed = np.sum(passing_marks)\n",
        "print(\"Number of students passed:\", num_students_passed)\n",
        "\n",
        "failed_marks = student_marks[student_marks < 30]\n",
        "print(\"Failed marks:\", failed_marks)"
      ],
      "metadata": {
        "colab": {
          "base_uri": "https://localhost:8080/"
        },
        "id": "ZIVDJxl16Xto",
        "outputId": "0c594009-a9ad-41d1-f9f5-79feb8ff2cd2"
      },
      "execution_count": 16,
      "outputs": [
        {
          "output_type": "stream",
          "name": "stdout",
          "text": [
            "Number of students passed: 36\n",
            "Failed marks: [14 20 23  2 21  1 29  1 20 21 14  2  6 20]\n"
          ]
        }
      ]
    },
    {
      "cell_type": "code",
      "source": [
        "random_array = np.random.randint(1, 51, size=(5, 5))  # Creating a 5x5 array, adjust size as needed\n",
        "\n",
        "print(\"Random 2D array:\")\n",
        "print(random_array)"
      ],
      "metadata": {
        "colab": {
          "base_uri": "https://localhost:8080/"
        },
        "id": "P4pdtayF6yc7",
        "outputId": "adb66399-8963-4524-d023-15067821b020"
      },
      "execution_count": 17,
      "outputs": [
        {
          "output_type": "stream",
          "name": "stdout",
          "text": [
            "Random 2D array:\n",
            "[[39 18  4 25 14]\n",
            " [50  9 26  2 20]\n",
            " [28 47  7 44  8]\n",
            " [47 35 14 17 36]\n",
            " [50 40  4  2  6]]\n"
          ]
        }
      ]
    },
    {
      "cell_type": "code",
      "source": [
        "odd_numbers = np.arange(-29, 11, 2)\n",
        "print(\"Array of odd numbers between -30 and 10:\")\n",
        "print(odd_numbers)"
      ],
      "metadata": {
        "colab": {
          "base_uri": "https://localhost:8080/"
        },
        "id": "5vgZFuS88W4A",
        "outputId": "a321a15d-69dd-4521-82a3-0adb0a3fb875"
      },
      "execution_count": 18,
      "outputs": [
        {
          "output_type": "stream",
          "name": "stdout",
          "text": [
            "Array of odd numbers between -30 and 10:\n",
            "[-29 -27 -25 -23 -21 -19 -17 -15 -13 -11  -9  -7  -5  -3  -1   1   3   5\n",
            "   7   9]\n"
          ]
        }
      ]
    }
  ]
}